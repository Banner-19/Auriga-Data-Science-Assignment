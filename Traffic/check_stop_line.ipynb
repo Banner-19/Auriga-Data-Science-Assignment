{
 "cells": [
  {
   "cell_type": "code",
   "execution_count": 5,
   "metadata": {},
   "outputs": [],
   "source": [
    "import cv2"
   ]
  },
  {
   "cell_type": "markdown",
   "metadata": {},
   "source": [
    "# Initialize video capture"
   ]
  },
  {
   "cell_type": "code",
   "execution_count": 6,
   "metadata": {},
   "outputs": [],
   "source": [
    "video_path = 'Traffic Light\\traffic_vid.mp4'\n",
    "cap = cv2.VideoCapture(video_path)"
   ]
  },
  {
   "cell_type": "markdown",
   "metadata": {},
   "source": [
    "# Read a frame from the video"
   ]
  },
  {
   "cell_type": "code",
   "execution_count": 7,
   "metadata": {},
   "outputs": [],
   "source": [
    "ret, frame = cap.read()\n",
    "if ret:\n",
    "    # Display the frame\n",
    "    cv2.imshow('Frame', frame)\n",
    "    \n",
    "    # Wait for a key press\n",
    "    cv2.waitKey(0)\n",
    "    \n",
    "    # Destroy the window\n",
    "    cv2.destroyAllWindows()"
   ]
  },
  {
   "cell_type": "code",
   "execution_count": 8,
   "metadata": {},
   "outputs": [],
   "source": [
    "cap.release()"
   ]
  },
  {
   "cell_type": "code",
   "execution_count": 9,
   "metadata": {},
   "outputs": [],
   "source": [
    "import cv2\n",
    "\n",
    "# Initialize video capture\n",
    "video_path = 'Traffic Light\\traffic_vid.mp4'\n",
    "cap = cv2.VideoCapture(video_path)\n",
    "\n",
    "# Read a frame from the video\n",
    "ret, frame = cap.read()\n",
    "if ret:\n",
    "    # Display the frame\n",
    "    cv2.imshow('Frame', frame)\n",
    "    \n",
    "    # Wait for a key press\n",
    "    cv2.waitKey(0)\n",
    "    \n",
    "    # Destroy the window\n",
    "    cv2.destroyAllWindows()\n",
    "\n",
    "cap.release()\n"
   ]
  }
 ],
 "metadata": {
  "kernelspec": {
   "display_name": "Python 3",
   "language": "python",
   "name": "python3"
  },
  "language_info": {
   "codemirror_mode": {
    "name": "ipython",
    "version": 3
   },
   "file_extension": ".py",
   "mimetype": "text/x-python",
   "name": "python",
   "nbconvert_exporter": "python",
   "pygments_lexer": "ipython3",
   "version": "3.10.6"
  }
 },
 "nbformat": 4,
 "nbformat_minor": 2
}
